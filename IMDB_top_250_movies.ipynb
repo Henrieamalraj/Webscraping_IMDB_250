{
 "cells": [
  {
   "cell_type": "markdown",
   "id": "09491555",
   "metadata": {},
   "source": [
    "To web scrap data from IMDB Top 250 movies list. \n",
    "Source:https://www.imdb.com/chart/top/\n",
    "Reference:https://www.youtube.com/watch?v=LCVSmkyB4v8\n",
    "Libraries used:BeautifulSoup,requests, openpyxl\n",
    "This scrapped data includes Movie ranks, Movie title, Year of release, Director, Actors,IMDb ratings and Count of users rated    "
   ]
  },
  {
   "cell_type": "code",
   "execution_count": 89,
   "id": "7fae3f69",
   "metadata": {},
   "outputs": [],
   "source": [
    "#install required libraries\n",
    "#pip install bs4\n",
    "#pip install requests"
   ]
  },
  {
   "cell_type": "code",
   "execution_count": 9,
   "id": "a9465c85",
   "metadata": {},
   "outputs": [],
   "source": [
    "#import required libraries\n",
    "from bs4 import BeautifulSoup as bs\n",
    "import requests\n",
    "import openpyxl\n",
    "from openpyxl.styles import Font"
   ]
  },
  {
   "cell_type": "code",
   "execution_count": 4,
   "id": "9e6d50e4",
   "metadata": {},
   "outputs": [],
   "source": [
    "# For viewing the html script of the website for first movie \n",
    "url=\"https://www.imdb.com/chart/top/\"\n",
    "source = requests.get(url)\n",
    "page = bs(source.content,\"html.parser\")\n",
    "#page = bs(source.text,\"lxml\") #same as html.parser\n",
    "movie_list = page.find('tbody',class_='lister-list').find_all('tr')\n",
    "for movie in movie_list:\n",
    "        #print(page)\n",
    "        break"
   ]
  },
  {
   "cell_type": "code",
   "execution_count": 11,
   "id": "8f4ef9ae",
   "metadata": {},
   "outputs": [],
   "source": [
    "#Creating excel file\n",
    "excel = openpyxl.Workbook()\n",
    "sheet=excel.active\n",
    "sheet.title=\"IMDB_top_250_movies\"\n",
    "#print(excel.sheetnames)\n",
    "#adding headers\n",
    "header= ['Movie ranks','Movie title','Year of release','Director','Actors','IMDb ratings','Count of users rated']\n",
    "sheet.append(header)\n",
    "excel.save(\"IMDB_top_250_movies_dataset.xlsx\")"
   ]
  },
  {
   "cell_type": "code",
   "execution_count": 12,
   "id": "04b61a78",
   "metadata": {},
   "outputs": [],
   "source": [
    "try:\n",
    "    source = requests.get(\"https://www.imdb.com/chart/top/\")\n",
    "    page = bs(source.content,\"html.parser\")\n",
    "    movie_list = page.find('tbody',class_='lister-list').find_all('tr')\n",
    "    for movie in movie_list:\n",
    "        movie_rank=movie.find('td',class_='titleColumn').text.split()[0].strip('.')\n",
    "        movie_name=movie.find('td',class_='titleColumn').a.text\n",
    "        movie_year=movie.find('td',class_='titleColumn').span.text.strip('()')\n",
    "        crew=movie.find('td',class_='titleColumn').a.get('title').split(',')\n",
    "        director=crew[0].strip('(dir.)')\n",
    "        actor=crew[1]+\",\"+crew[2]\n",
    "        rating=movie.find('td',class_='ratingColumn imdbRating').text.strip('\\n')\n",
    "        user_count= movie.find('td',class_='ratingColumn imdbRating').strong.get('title').split(\" \")[3]\n",
    "        info=[movie_rank,movie_name,movie_year,director,actor,rating,user_count]\n",
    "        #print(info)\n",
    "        sheet.append(info)\n",
    "except Exception as e:\n",
    "    print(e)\n",
    "excel.save(\"IMDB_top_250_movies_dataset.xlsx\")"
   ]
  },
  {
   "cell_type": "code",
   "execution_count": 5,
   "id": "312cc942",
   "metadata": {},
   "outputs": [],
   "source": [
    "import pandas as pd\n",
    "from datetime import datetime"
   ]
  },
  {
   "cell_type": "code",
   "execution_count": 23,
   "id": "b07f40ca",
   "metadata": {},
   "outputs": [],
   "source": [
    "#For creating date list with given start date and end date\n",
    "start_date=\"20200224\"\n",
    "end_date=\"20200305\"\n",
    "dates=pd.date_range(start=start_date,end=end_date).to_pydatetime().tolist()\n",
    "for date in dates:\n",
    "    date=str(date).replace(\" 00:00:00\",'').replace('-','')\n",
    "    #print(date)\n"
   ]
  },
  {
   "cell_type": "code",
   "execution_count": null,
   "id": "9646fa18",
   "metadata": {},
   "outputs": [],
   "source": []
  }
 ],
 "metadata": {
  "kernelspec": {
   "display_name": "Python 3 (ipykernel)",
   "language": "python",
   "name": "python3"
  },
  "language_info": {
   "codemirror_mode": {
    "name": "ipython",
    "version": 3
   },
   "file_extension": ".py",
   "mimetype": "text/x-python",
   "name": "python",
   "nbconvert_exporter": "python",
   "pygments_lexer": "ipython3",
   "version": "3.9.7"
  }
 },
 "nbformat": 4,
 "nbformat_minor": 5
}
